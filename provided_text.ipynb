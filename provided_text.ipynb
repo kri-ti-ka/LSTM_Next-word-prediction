{
  "nbformat": 4,
  "nbformat_minor": 0,
  "metadata": {
    "colab": {
      "provenance": []
    },
    "kernelspec": {
      "name": "python3",
      "display_name": "Python 3"
    },
    "language_info": {
      "name": "python"
    }
  },
  "cells": [
    {
      "cell_type": "code",
      "execution_count": 5,
      "metadata": {
        "id": "IrmA3eaj3kF0"
      },
      "outputs": [],
      "source": [
        "texttext = \"\"\"The morning sun gradually ascends above the horizon, casting its warm glow upon the waking earth. As the dawn breaks, nature emerges from the embrace of night, stirring with life and vitality. The birds, perched upon swaying branches, commence their symphony of chirps and trills, their melodies echoing through the stillness of the early hours. Dew-kissed grass blades shimmer like scattered diamonds, reflecting the radiant hues of the emerging day. A gentle breeze, carrying the scent of blooming flowers and freshly turned soil, rustles the leaves of trees, creating a soothing lullaby. In this tranquil moment, time seems suspended, as if the world itself is holding its breath in anticipation of the day ahead.\n",
        "\n",
        "The sky transforms from the soft hues of dawn into a vibrant canvas of blues and pinks, as the sun climbs higher, bathing the landscape in golden light. Shadows retreat, replaced by the warm embrace of morning. Creatures of the forest venture forth from their dens and burrows, eager to partake in the abundance of the new day. Squirrels scamper along tree branches, their playful antics a testament to the joy of life. Butterflies flit from flower to flower, their delicate wings carrying them on a dance of exploration and discovery. The gentle hum of insects fills the air, a chorus of tiny voices heralding the arrival of daybreak.\n",
        "\n",
        "As the morning progresses, the world awakens in full splendor, bursting with the vibrant energy of life. Streams babble merrily as they wind their way through the countryside, their waters sparkling in the sunlight. Meadows come alive with a riot of color, as wildflowers sway in the breeze, their petals shimmering with dew. Bees buzz busily from blossom to blossom, collecting nectar to sustain their hive. The distant call of a rooster signals the start of another day, a reminder of the rhythm of life that pulses through the natural world.\n",
        "\n",
        "In this moment of quiet beauty, I find myself filled with a sense of awe and gratitude for the wonders that surround me. Each blade of grass, each leaf on the trees, is a testament to the intricate beauty of creation. As I bask in the warmth of the morning sun, I am reminded of the precious gift of life, and the importance of cherishing each moment, for in the tapestry of existence, every thread is woven with purpose and meaning.\n",
        "\"\"\""
      ]
    },
    {
      "cell_type": "code",
      "execution_count": 6,
      "metadata": {
        "id": "NsQAtfpowZNr"
      },
      "outputs": [],
      "source": [
        "import numpy as np\n",
        "import time\n",
        "from tensorflow.keras.preprocessing.text import Tokenizer\n",
        "from tensorflow.keras.preprocessing.sequence import pad_sequences\n",
        "from tensorflow.keras.models import Sequential\n",
        "from tensorflow.keras.layers import Embedding, LSTM, Dense\n",
        "from tensorflow.keras.utils import to_categorical"
      ]
    },
    {
      "cell_type": "code",
      "source": [
        "tokenizer = Tokenizer()\n",
        "tokenizer.fit_on_texts([texttext])"
      ],
      "metadata": {
        "id": "VDDFzb2jwcYB"
      },
      "execution_count": 7,
      "outputs": []
    },
    {
      "cell_type": "code",
      "source": [
        "len(tokenizer.word_index)"
      ],
      "metadata": {
        "colab": {
          "base_uri": "https://localhost:8080/"
        },
        "id": "-FpMEYhgwfIi",
        "outputId": "2110ba0b-0d01-4732-aa4a-1acdbdf9921f"
      },
      "execution_count": 8,
      "outputs": [
        {
          "output_type": "execute_result",
          "data": {
            "text/plain": [
              "221"
            ]
          },
          "metadata": {},
          "execution_count": 8
        }
      ]
    },
    {
      "cell_type": "code",
      "source": [
        "vocab_size = len(tokenizer.word_index) + 1"
      ],
      "metadata": {
        "id": "aBQZ6NcUxJmg"
      },
      "execution_count": 9,
      "outputs": []
    },
    {
      "cell_type": "code",
      "source": [
        "input_sequences = []\n",
        "for sentence in texttext.split('\\n'):\n",
        "    tokenized_sentence = tokenizer.texts_to_sequences([sentence])[0]\n",
        "    for i in range(1, len(tokenized_sentence)):\n",
        "        input_sequences.append(tokenized_sentence[:i+1])"
      ],
      "metadata": {
        "id": "8lu5qLzKxQWC"
      },
      "execution_count": 10,
      "outputs": []
    },
    {
      "cell_type": "code",
      "source": [
        "max_sequence_length = max([len(seq) for seq in input_sequences])\n",
        "padded_input_sequences = pad_sequences(input_sequences, maxlen=max_sequence_length, padding='pre')"
      ],
      "metadata": {
        "id": "5OyDpWllxWly"
      },
      "execution_count": 14,
      "outputs": []
    },
    {
      "cell_type": "code",
      "source": [
        "X = padded_input_sequences[:, :-1]\n",
        "y = padded_input_sequences[:, -1]\n",
        "y = to_categorical(y, num_classes=vocab_size)"
      ],
      "metadata": {
        "id": "ZaSJWilPxZv7"
      },
      "execution_count": 15,
      "outputs": []
    },
    {
      "cell_type": "code",
      "source": [
        "model = Sequential()\n",
        "model.add(Embedding(vocab_size, 100, input_length=max_sequence_length - 1))\n",
        "model.add(LSTM(150, return_sequences=True))\n",
        "model.add(LSTM(150))\n",
        "model.add(Dense(vocab_size, activation='softmax'))\n",
        "model.compile(loss='categorical_crossentropy', optimizer='adam', metrics=['accuracy'])"
      ],
      "metadata": {
        "id": "6FyECJTlxdCc"
      },
      "execution_count": 16,
      "outputs": []
    },
    {
      "cell_type": "code",
      "source": [
        "model.fit(X, y, epochs=100)"
      ],
      "metadata": {
        "colab": {
          "base_uri": "https://localhost:8080/"
        },
        "id": "S4L-KZEmxgxg",
        "outputId": "a48c618e-a8e5-470d-a098-afd793617d42"
      },
      "execution_count": 17,
      "outputs": [
        {
          "output_type": "stream",
          "name": "stdout",
          "text": [
            "Epoch 1/100\n",
            "13/13 [==============================] - 11s 473ms/step - loss: 5.3354 - accuracy: 0.0714\n",
            "Epoch 2/100\n",
            "13/13 [==============================] - 5s 381ms/step - loss: 5.0001 - accuracy: 0.0995\n",
            "Epoch 3/100\n",
            "13/13 [==============================] - 6s 488ms/step - loss: 4.8816 - accuracy: 0.0816\n",
            "Epoch 4/100\n",
            "13/13 [==============================] - 5s 387ms/step - loss: 4.8333 - accuracy: 0.1071\n",
            "Epoch 5/100\n",
            "13/13 [==============================] - 6s 495ms/step - loss: 4.8238 - accuracy: 0.1071\n",
            "Epoch 6/100\n",
            "13/13 [==============================] - 5s 388ms/step - loss: 4.8137 - accuracy: 0.1071\n",
            "Epoch 7/100\n",
            "13/13 [==============================] - 6s 481ms/step - loss: 4.8138 - accuracy: 0.1071\n",
            "Epoch 8/100\n",
            "13/13 [==============================] - 5s 380ms/step - loss: 4.8116 - accuracy: 0.1071\n",
            "Epoch 9/100\n",
            "13/13 [==============================] - 5s 388ms/step - loss: 4.8124 - accuracy: 0.1071\n",
            "Epoch 10/100\n",
            "13/13 [==============================] - 6s 476ms/step - loss: 4.8079 - accuracy: 0.1071\n",
            "Epoch 11/100\n",
            "13/13 [==============================] - 5s 387ms/step - loss: 4.8061 - accuracy: 0.1071\n",
            "Epoch 12/100\n",
            "13/13 [==============================] - 6s 492ms/step - loss: 4.8040 - accuracy: 0.1071\n",
            "Epoch 13/100\n",
            "13/13 [==============================] - 5s 388ms/step - loss: 4.7955 - accuracy: 0.1071\n",
            "Epoch 14/100\n",
            "13/13 [==============================] - 6s 493ms/step - loss: 4.7876 - accuracy: 0.1071\n",
            "Epoch 15/100\n",
            "13/13 [==============================] - 5s 384ms/step - loss: 4.7756 - accuracy: 0.1071\n",
            "Epoch 16/100\n",
            "13/13 [==============================] - 6s 460ms/step - loss: 4.7501 - accuracy: 0.1148\n",
            "Epoch 17/100\n",
            "13/13 [==============================] - 6s 396ms/step - loss: 4.6798 - accuracy: 0.1786\n",
            "Epoch 18/100\n",
            "13/13 [==============================] - 5s 393ms/step - loss: 4.5675 - accuracy: 0.1811\n",
            "Epoch 19/100\n",
            "13/13 [==============================] - 6s 494ms/step - loss: 4.4237 - accuracy: 0.1837\n",
            "Epoch 20/100\n",
            "13/13 [==============================] - 5s 396ms/step - loss: 4.3053 - accuracy: 0.1837\n",
            "Epoch 21/100\n",
            "13/13 [==============================] - 6s 502ms/step - loss: 4.1900 - accuracy: 0.1862\n",
            "Epoch 22/100\n",
            "13/13 [==============================] - 5s 395ms/step - loss: 4.0652 - accuracy: 0.1964\n",
            "Epoch 23/100\n",
            "13/13 [==============================] - 6s 499ms/step - loss: 3.9463 - accuracy: 0.1964\n",
            "Epoch 24/100\n",
            "13/13 [==============================] - 5s 397ms/step - loss: 3.8215 - accuracy: 0.2066\n",
            "Epoch 25/100\n",
            "13/13 [==============================] - 6s 504ms/step - loss: 3.6679 - accuracy: 0.2296\n",
            "Epoch 26/100\n",
            "13/13 [==============================] - 5s 394ms/step - loss: 3.5421 - accuracy: 0.2321\n",
            "Epoch 27/100\n",
            "13/13 [==============================] - 6s 427ms/step - loss: 3.3899 - accuracy: 0.2500\n",
            "Epoch 28/100\n",
            "13/13 [==============================] - 6s 432ms/step - loss: 3.2462 - accuracy: 0.2653\n",
            "Epoch 29/100\n",
            "13/13 [==============================] - 5s 381ms/step - loss: 3.1154 - accuracy: 0.2908\n",
            "Epoch 30/100\n",
            "13/13 [==============================] - 6s 494ms/step - loss: 2.9871 - accuracy: 0.3061\n",
            "Epoch 31/100\n",
            "13/13 [==============================] - 5s 391ms/step - loss: 2.8738 - accuracy: 0.3265\n",
            "Epoch 32/100\n",
            "13/13 [==============================] - 6s 489ms/step - loss: 2.7538 - accuracy: 0.3622\n",
            "Epoch 33/100\n",
            "13/13 [==============================] - 5s 381ms/step - loss: 2.6306 - accuracy: 0.3980\n",
            "Epoch 34/100\n",
            "13/13 [==============================] - 6s 498ms/step - loss: 2.5251 - accuracy: 0.4158\n",
            "Epoch 35/100\n",
            "13/13 [==============================] - 5s 406ms/step - loss: 2.4338 - accuracy: 0.4464\n",
            "Epoch 36/100\n",
            "13/13 [==============================] - 6s 454ms/step - loss: 2.3449 - accuracy: 0.4821\n",
            "Epoch 37/100\n",
            "13/13 [==============================] - 6s 411ms/step - loss: 2.2414 - accuracy: 0.5357\n",
            "Epoch 38/100\n",
            "13/13 [==============================] - 5s 395ms/step - loss: 2.1451 - accuracy: 0.5434\n",
            "Epoch 39/100\n",
            "13/13 [==============================] - 6s 489ms/step - loss: 2.0428 - accuracy: 0.6046\n",
            "Epoch 40/100\n",
            "13/13 [==============================] - 5s 398ms/step - loss: 1.9705 - accuracy: 0.6378\n",
            "Epoch 41/100\n",
            "13/13 [==============================] - 7s 511ms/step - loss: 1.8784 - accuracy: 0.6709\n",
            "Epoch 42/100\n",
            "13/13 [==============================] - 5s 398ms/step - loss: 1.7943 - accuracy: 0.7245\n",
            "Epoch 43/100\n",
            "13/13 [==============================] - 6s 497ms/step - loss: 1.7350 - accuracy: 0.7270\n",
            "Epoch 44/100\n",
            "13/13 [==============================] - 5s 391ms/step - loss: 1.6495 - accuracy: 0.7704\n",
            "Epoch 45/100\n",
            "13/13 [==============================] - 7s 519ms/step - loss: 1.5758 - accuracy: 0.7857\n",
            "Epoch 46/100\n",
            "13/13 [==============================] - 5s 395ms/step - loss: 1.4953 - accuracy: 0.8061\n",
            "Epoch 47/100\n",
            "13/13 [==============================] - 6s 470ms/step - loss: 1.4271 - accuracy: 0.8342\n",
            "Epoch 48/100\n",
            "13/13 [==============================] - 6s 394ms/step - loss: 1.3554 - accuracy: 0.8546\n",
            "Epoch 49/100\n",
            "13/13 [==============================] - 5s 394ms/step - loss: 1.2799 - accuracy: 0.8878\n",
            "Epoch 50/100\n",
            "13/13 [==============================] - 6s 487ms/step - loss: 1.2262 - accuracy: 0.8980\n",
            "Epoch 51/100\n",
            "13/13 [==============================] - 5s 397ms/step - loss: 1.1636 - accuracy: 0.9082\n",
            "Epoch 52/100\n",
            "13/13 [==============================] - 6s 502ms/step - loss: 1.1062 - accuracy: 0.9235\n",
            "Epoch 53/100\n",
            "13/13 [==============================] - 5s 395ms/step - loss: 1.0491 - accuracy: 0.9260\n",
            "Epoch 54/100\n",
            "13/13 [==============================] - 6s 491ms/step - loss: 0.9971 - accuracy: 0.9362\n",
            "Epoch 55/100\n",
            "13/13 [==============================] - 5s 392ms/step - loss: 0.9413 - accuracy: 0.9541\n",
            "Epoch 56/100\n",
            "13/13 [==============================] - 6s 496ms/step - loss: 0.9046 - accuracy: 0.9490\n",
            "Epoch 57/100\n",
            "13/13 [==============================] - 5s 398ms/step - loss: 0.8618 - accuracy: 0.9592\n",
            "Epoch 58/100\n",
            "13/13 [==============================] - 6s 466ms/step - loss: 0.8152 - accuracy: 0.9643\n",
            "Epoch 59/100\n",
            "13/13 [==============================] - 6s 411ms/step - loss: 0.7752 - accuracy: 0.9643\n",
            "Epoch 60/100\n",
            "13/13 [==============================] - 5s 386ms/step - loss: 0.7298 - accuracy: 0.9745\n",
            "Epoch 61/100\n",
            "13/13 [==============================] - 6s 502ms/step - loss: 0.6912 - accuracy: 0.9719\n",
            "Epoch 62/100\n",
            "13/13 [==============================] - 5s 385ms/step - loss: 0.6560 - accuracy: 0.9796\n",
            "Epoch 63/100\n",
            "13/13 [==============================] - 6s 502ms/step - loss: 0.6180 - accuracy: 0.9770\n",
            "Epoch 64/100\n",
            "13/13 [==============================] - 5s 391ms/step - loss: 0.5840 - accuracy: 0.9847\n",
            "Epoch 65/100\n",
            "13/13 [==============================] - 6s 490ms/step - loss: 0.5535 - accuracy: 0.9898\n",
            "Epoch 66/100\n",
            "13/13 [==============================] - 5s 400ms/step - loss: 0.5254 - accuracy: 0.9949\n",
            "Epoch 67/100\n",
            "13/13 [==============================] - 6s 488ms/step - loss: 0.5009 - accuracy: 0.9923\n",
            "Epoch 68/100\n",
            "13/13 [==============================] - 5s 389ms/step - loss: 0.4744 - accuracy: 0.9949\n",
            "Epoch 69/100\n",
            "13/13 [==============================] - 6s 433ms/step - loss: 0.4486 - accuracy: 0.9949\n",
            "Epoch 70/100\n",
            "13/13 [==============================] - 6s 449ms/step - loss: 0.4273 - accuracy: 0.9949\n",
            "Epoch 71/100\n",
            "13/13 [==============================] - 5s 396ms/step - loss: 0.4054 - accuracy: 0.9949\n",
            "Epoch 72/100\n",
            "13/13 [==============================] - 7s 512ms/step - loss: 0.3869 - accuracy: 0.9949\n",
            "Epoch 73/100\n",
            "13/13 [==============================] - 5s 402ms/step - loss: 0.3705 - accuracy: 0.9949\n",
            "Epoch 74/100\n",
            "13/13 [==============================] - 6s 508ms/step - loss: 0.3515 - accuracy: 0.9949\n",
            "Epoch 75/100\n",
            "13/13 [==============================] - 5s 399ms/step - loss: 0.3332 - accuracy: 0.9974\n",
            "Epoch 76/100\n",
            "13/13 [==============================] - 7s 530ms/step - loss: 0.3165 - accuracy: 0.9974\n",
            "Epoch 77/100\n",
            "13/13 [==============================] - 5s 408ms/step - loss: 0.3030 - accuracy: 0.9974\n",
            "Epoch 78/100\n",
            "13/13 [==============================] - 7s 509ms/step - loss: 0.2914 - accuracy: 0.9974\n",
            "Epoch 79/100\n",
            "13/13 [==============================] - 5s 405ms/step - loss: 0.2804 - accuracy: 0.9974\n",
            "Epoch 80/100\n",
            "13/13 [==============================] - 6s 460ms/step - loss: 0.2648 - accuracy: 0.9974\n",
            "Epoch 81/100\n",
            "13/13 [==============================] - 6s 399ms/step - loss: 0.2529 - accuracy: 0.9974\n",
            "Epoch 82/100\n",
            "13/13 [==============================] - 5s 398ms/step - loss: 0.2410 - accuracy: 0.9974\n",
            "Epoch 83/100\n",
            "13/13 [==============================] - 6s 483ms/step - loss: 0.2309 - accuracy: 0.9974\n",
            "Epoch 84/100\n",
            "13/13 [==============================] - 5s 392ms/step - loss: 0.2225 - accuracy: 0.9974\n",
            "Epoch 85/100\n",
            "13/13 [==============================] - 7s 511ms/step - loss: 0.2114 - accuracy: 0.9974\n",
            "Epoch 86/100\n",
            "13/13 [==============================] - 5s 389ms/step - loss: 0.2038 - accuracy: 0.9974\n",
            "Epoch 87/100\n",
            "13/13 [==============================] - 7s 511ms/step - loss: 0.1964 - accuracy: 0.9974\n",
            "Epoch 88/100\n",
            "13/13 [==============================] - 5s 403ms/step - loss: 0.1888 - accuracy: 0.9974\n",
            "Epoch 89/100\n",
            "13/13 [==============================] - 7s 513ms/step - loss: 0.1807 - accuracy: 1.0000\n",
            "Epoch 90/100\n",
            "13/13 [==============================] - 5s 392ms/step - loss: 0.1759 - accuracy: 0.9974\n",
            "Epoch 91/100\n",
            "13/13 [==============================] - 6s 439ms/step - loss: 0.1699 - accuracy: 0.9974\n",
            "Epoch 92/100\n",
            "13/13 [==============================] - 6s 422ms/step - loss: 0.1644 - accuracy: 0.9974\n",
            "Epoch 93/100\n",
            "13/13 [==============================] - 5s 393ms/step - loss: 0.1576 - accuracy: 0.9974\n",
            "Epoch 94/100\n",
            "13/13 [==============================] - 6s 506ms/step - loss: 0.1517 - accuracy: 0.9974\n",
            "Epoch 95/100\n",
            "13/13 [==============================] - 5s 399ms/step - loss: 0.1456 - accuracy: 0.9974\n",
            "Epoch 96/100\n",
            "13/13 [==============================] - 6s 508ms/step - loss: 0.1410 - accuracy: 0.9974\n",
            "Epoch 97/100\n",
            "13/13 [==============================] - 5s 398ms/step - loss: 0.1366 - accuracy: 0.9974\n",
            "Epoch 98/100\n",
            "13/13 [==============================] - 6s 503ms/step - loss: 0.1320 - accuracy: 0.9974\n",
            "Epoch 99/100\n",
            "13/13 [==============================] - 5s 402ms/step - loss: 0.1273 - accuracy: 0.9974\n",
            "Epoch 100/100\n",
            "13/13 [==============================] - 6s 507ms/step - loss: 0.1231 - accuracy: 0.9974\n"
          ]
        },
        {
          "output_type": "execute_result",
          "data": {
            "text/plain": [
              "<keras.src.callbacks.History at 0x7fb44104b100>"
            ]
          },
          "metadata": {},
          "execution_count": 17
        }
      ]
    },
    {
      "cell_type": "code",
      "source": [
        "text = \"hey\"\n",
        "for i in range(10):\n",
        "    token_text = tokenizer.texts_to_sequences([text])[0]\n",
        "    padded_token_text = pad_sequences([token_text], maxlen=max_sequence_length-1, padding='pre')\n",
        "    pos = np.argmax(model.predict(padded_token_text))\n",
        "    for word, index in tokenizer.word_index.items():\n",
        "        if index == pos:\n",
        "            text += \" \" + word\n",
        "            print(text)\n",
        "            time.sleep(2)\n",
        "            break"
      ],
      "metadata": {
        "colab": {
          "base_uri": "https://localhost:8080/"
        },
        "id": "7s5kKyjaxkZU",
        "outputId": "a78ad0c0-68af-48bb-8c52-7d3b666ffa9e"
      },
      "execution_count": 19,
      "outputs": [
        {
          "output_type": "stream",
          "name": "stdout",
          "text": [
            "1/1 [==============================] - 0s 59ms/step\n",
            "hey this\n",
            "1/1 [==============================] - 0s 75ms/step\n",
            "hey this sky\n",
            "1/1 [==============================] - 0s 59ms/step\n",
            "hey this sky transforms\n",
            "1/1 [==============================] - 0s 58ms/step\n",
            "hey this sky transforms from\n",
            "1/1 [==============================] - 0s 58ms/step\n",
            "hey this sky transforms from the\n",
            "1/1 [==============================] - 0s 69ms/step\n",
            "hey this sky transforms from the soft\n",
            "1/1 [==============================] - 0s 76ms/step\n",
            "hey this sky transforms from the soft hues\n",
            "1/1 [==============================] - 0s 100ms/step\n",
            "hey this sky transforms from the soft hues of\n",
            "1/1 [==============================] - 0s 75ms/step\n",
            "hey this sky transforms from the soft hues of dawn\n",
            "1/1 [==============================] - 0s 64ms/step\n",
            "hey this sky transforms from the soft hues of dawn into\n"
          ]
        }
      ]
    },
    {
      "cell_type": "code",
      "source": [],
      "metadata": {
        "id": "TtSRnIGwz32z"
      },
      "execution_count": null,
      "outputs": []
    }
  ]
}